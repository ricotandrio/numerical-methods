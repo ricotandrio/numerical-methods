{
 "cells": [
  {
   "cell_type": "code",
   "execution_count": 31,
   "metadata": {},
   "outputs": [
    {
     "name": "stdout",
     "output_type": "stream",
     "text": [
      "Result Maclaurin Series for f(x) = sin(x) = -x**3/6 + x\n",
      "Result Maclaurin Series for f(x) = cos(x) = -x**3/6 + x\n",
      "Result Maclaurin Series for f(x) = sin(x) * cos(x) = -2*x**3/3 + x\n"
     ]
    }
   ],
   "source": [
    "from sympy import *\n",
    "import numpy as np\n",
    "\n",
    "x = symbols('x')\n",
    "def maclaurin(f, x, x0, n):\n",
    "    equation = 0\n",
    "    for i in range(0, n):\n",
    "        equation = equation + ((diff(f, x, i).subs(x, x0)) / np.math.factorial(i)) * (x ** i)\n",
    "    return equation\n",
    "\n",
    "print(\"Result Maclaurin Series for f(x) = sin(x) = {}\".format(maclaurin(sin(x), x, 0, 4)))\n",
    "print(\"Result Maclaurin Series for f(x) = cos(x) = {}\".format(maclaurin(sin(x), x, 0, 4)))\n",
    "print(\"Result Maclaurin Series for f(x) = sin(x) * cos(x) = {}\".format(maclaurin(sin(x) * cos(x), x, 0, 4)))\n",
    "\n"
   ]
  },
  {
   "cell_type": "code",
   "execution_count": 36,
   "metadata": {},
   "outputs": [
    {
     "name": "stdout",
     "output_type": "stream",
     "text": [
      "Result Maclaurin Series for f(x) = sin(x) = -x**3/6 + x\n"
     ]
    }
   ],
   "source": [
    "from sympy import * \n",
    "print(\"Result Maclaurin Series for f(x) = sin(x) = {}\".format(sin(symbols('x')).series(symbols('x'), 0, 4).removeO()))"
   ]
  }
 ],
 "metadata": {
  "kernelspec": {
   "display_name": "Python 3",
   "language": "python",
   "name": "python3"
  },
  "language_info": {
   "codemirror_mode": {
    "name": "ipython",
    "version": 3
   },
   "file_extension": ".py",
   "mimetype": "text/x-python",
   "name": "python",
   "nbconvert_exporter": "python",
   "pygments_lexer": "ipython3",
   "version": "3.9.7"
  },
  "orig_nbformat": 4
 },
 "nbformat": 4,
 "nbformat_minor": 2
}
